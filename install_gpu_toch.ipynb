{
 "cells": [
  {
   "cell_type": "markdown",
   "metadata": {},
   "source": [
    "# Configurando GPU RTX A2000 com tensorflow no Windows 11\n",
    "\n",
    "Criado por: Nielsen C. Damasceno Dantas\n",
    "\n",
    "\n",
    "Data de criacao: 28/06/2024\n",
    "\n",
    "______\n",
    "\n",
    "Requeriments:\n",
    "- tensorflow-gpu==2.10.0\n",
    "- pandas\n",
    "- gensim==3.8.3\n",
    "- scikit-learn\n",
    "- seaborn\n",
    "- matplotlib\n",
    "- Python 3.8.19\n",
    "\n"
   ]
  },
  {
   "cell_type": "markdown",
   "metadata": {},
   "source": [
    "## Faça o download do CUDA toolkit 11.6 para Windows 11\n",
    "https://developer.nvidia.com/cuda-11-6-0-download-archive?target_os=Windows&target_arch=x86_64"
   ]
  },
  {
   "cell_type": "markdown",
   "metadata": {},
   "source": [
    "## Faça o Download cuDNN v8.6.0 \n",
    "https://developer.nvidia.com/rdp/cudnn-archive"
   ]
  },
  {
   "cell_type": "markdown",
   "metadata": {},
   "source": [
    "## Siga os passos conforme esse tutorial aqui para configuração do Path\n",
    "https://medium.com/analytics-vidhya/using-tensorflow-on-windows-10-with-nvidia-rtx-3000-series-gpus-637ab2a4b163"
   ]
  },
  {
   "cell_type": "markdown",
   "metadata": {},
   "source": [
    "## Instale a lib zlibdll \n",
    "Download and extract the zlib package from http://www.winimage.com/zLibDll/zlib123dllx64.zip for 64 bit windows then copy the zlibdll file into cudnn/bin"
   ]
  },
  {
   "cell_type": "markdown",
   "metadata": {},
   "source": [
    "# Avaliando PyToch"
   ]
  },
  {
   "cell_type": "code",
   "execution_count": null,
   "metadata": {},
   "outputs": [
    {
     "name": "stdout",
     "output_type": "stream",
     "text": [
      "2.4.1+cpu\n",
      "False\n"
     ]
    }
   ],
   "source": [
    "import torch\n",
    "print(torch.__version__)\n",
    "print(torch.cuda.is_available())"
   ]
  }
 ],
 "metadata": {
  "kernelspec": {
   "display_name": "GPU_Tensor",
   "language": "python",
   "name": "python3"
  },
  "language_info": {
   "codemirror_mode": {
    "name": "ipython",
    "version": 3
   },
   "file_extension": ".py",
   "mimetype": "text/x-python",
   "name": "python",
   "nbconvert_exporter": "python",
   "pygments_lexer": "ipython3",
   "version": "3.10.15"
  }
 },
 "nbformat": 4,
 "nbformat_minor": 2
}
